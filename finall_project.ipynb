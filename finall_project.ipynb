{
 "cells": [
  {
   "cell_type": "code",
   "execution_count": null,
   "id": "67943a0c-9dcb-4a55-8529-80a37787c246",
   "metadata": {
    "scrolled": true
   },
   "outputs": [
    {
     "name": "stdin",
     "output_type": "stream",
     "text": [
      "Choose Institute Name [NTI, ITI]:  nti\n",
      "Enter Institute Location:  cairo\n"
     ]
    },
    {
     "name": "stdout",
     "output_type": "stream",
     "text": [
      "\n",
      "--- Institute Management System ---\n",
      "1. Add Staff\n",
      "2. Add Student\n",
      "3. Display All Staff\n",
      "4. Display All Students\n",
      "5. Exit\n"
     ]
    },
    {
     "name": "stdin",
     "output_type": "stream",
     "text": [
      "Enter your choice:  1\n",
      "Enter staff name:  Mahmoud\n",
      "Enter position:  data anlysis\n"
     ]
    },
    {
     "name": "stdout",
     "output_type": "stream",
     "text": [
      "Staff Mahmoud saved to the database.\n",
      "\n",
      "--- Institute Management System ---\n",
      "1. Add Staff\n",
      "2. Add Student\n",
      "3. Display All Staff\n",
      "4. Display All Students\n",
      "5. Exit\n"
     ]
    },
    {
     "name": "stdin",
     "output_type": "stream",
     "text": [
      "Enter your choice:  3\n"
     ]
    },
    {
     "name": "stderr",
     "output_type": "stream",
     "text": [
      "C:\\Users\\Mahmoud\\AppData\\Local\\Temp\\ipykernel_1380\\3716490702.py:44: UserWarning: pandas only supports SQLAlchemy connectable (engine/connection) or database string URI or sqlite3 DBAPI2 connection. Other DBAPI2 objects are not tested. Please consider using SQLAlchemy.\n",
      "  return pd.read_sql(query, connection, params=params)\n"
     ]
    },
    {
     "name": "stdout",
     "output_type": "stream",
     "text": [
      "\n",
      "Staff Members at NTI in cairo\n",
      "   id     name      position institute_name location\n",
      "0   7  Mahmoud  data anlysis            NTI    cairo\n",
      "\n",
      "--- Institute Management System ---\n",
      "1. Add Staff\n",
      "2. Add Student\n",
      "3. Display All Staff\n",
      "4. Display All Students\n",
      "5. Exit\n"
     ]
    },
    {
     "name": "stdin",
     "output_type": "stream",
     "text": [
      "Enter your choice:  4\n"
     ]
    },
    {
     "name": "stderr",
     "output_type": "stream",
     "text": [
      "C:\\Users\\Mahmoud\\AppData\\Local\\Temp\\ipykernel_1380\\3716490702.py:69: UserWarning: pandas only supports SQLAlchemy connectable (engine/connection) or database string URI or sqlite3 DBAPI2 connection. Other DBAPI2 objects are not tested. Please consider using SQLAlchemy.\n",
      "  return pd.read_sql(query, connection, params=params)\n"
     ]
    },
    {
     "name": "stdout",
     "output_type": "stream",
     "text": [
      "\n",
      "Students at NTI in cairo\n",
      "Empty DataFrame\n",
      "Columns: [id, name, course, institute_name, location]\n",
      "Index: []\n",
      "\n",
      "--- Institute Management System ---\n",
      "1. Add Staff\n",
      "2. Add Student\n",
      "3. Display All Staff\n",
      "4. Display All Students\n",
      "5. Exit\n"
     ]
    },
    {
     "name": "stdin",
     "output_type": "stream",
     "text": [
      "Enter your choice:  2\n",
      "Enter student name:  mohammed\n",
      "Enter course:  data engineer\n"
     ]
    },
    {
     "name": "stdout",
     "output_type": "stream",
     "text": [
      "Student mohammed saved to the database.\n",
      "\n",
      "--- Institute Management System ---\n",
      "1. Add Staff\n",
      "2. Add Student\n",
      "3. Display All Staff\n",
      "4. Display All Students\n",
      "5. Exit\n"
     ]
    },
    {
     "name": "stdin",
     "output_type": "stream",
     "text": [
      "Enter your choice:  3\n"
     ]
    },
    {
     "name": "stderr",
     "output_type": "stream",
     "text": [
      "C:\\Users\\Mahmoud\\AppData\\Local\\Temp\\ipykernel_1380\\3716490702.py:44: UserWarning: pandas only supports SQLAlchemy connectable (engine/connection) or database string URI or sqlite3 DBAPI2 connection. Other DBAPI2 objects are not tested. Please consider using SQLAlchemy.\n",
      "  return pd.read_sql(query, connection, params=params)\n"
     ]
    },
    {
     "name": "stdout",
     "output_type": "stream",
     "text": [
      "\n",
      "Staff Members at NTI in cairo\n",
      "   id     name      position institute_name location\n",
      "0   7  Mahmoud  data anlysis            NTI    cairo\n",
      "\n",
      "--- Institute Management System ---\n",
      "1. Add Staff\n",
      "2. Add Student\n",
      "3. Display All Staff\n",
      "4. Display All Students\n",
      "5. Exit\n"
     ]
    },
    {
     "name": "stdin",
     "output_type": "stream",
     "text": [
      "Enter your choice:  4\n"
     ]
    },
    {
     "name": "stderr",
     "output_type": "stream",
     "text": [
      "C:\\Users\\Mahmoud\\AppData\\Local\\Temp\\ipykernel_1380\\3716490702.py:69: UserWarning: pandas only supports SQLAlchemy connectable (engine/connection) or database string URI or sqlite3 DBAPI2 connection. Other DBAPI2 objects are not tested. Please consider using SQLAlchemy.\n",
      "  return pd.read_sql(query, connection, params=params)\n"
     ]
    },
    {
     "name": "stdout",
     "output_type": "stream",
     "text": [
      "\n",
      "Students at NTI in cairo\n",
      "   id      name         course institute_name location\n",
      "0   5  mohammed  data engineer            NTI    cairo\n",
      "\n",
      "--- Institute Management System ---\n",
      "1. Add Staff\n",
      "2. Add Student\n",
      "3. Display All Staff\n",
      "4. Display All Students\n",
      "5. Exit\n"
     ]
    }
   ],
   "source": [
    "# import pyodbc\n",
    "# import pandas as pd\n",
    "# def connect_to_db():\n",
    "#     connection = pyodbc.connect(\n",
    "#         'DRIVER={SQL Server};'\n",
    "#         'SERVER=DESKTOP-DBCQQQ4;'  \n",
    "#         'DATABASE=InstituteDB;'     \n",
    "#         'Trusted_Connection=yes;'\n",
    "#     )\n",
    "#     return connection\n",
    "# # Base class: Institute\n",
    "# #__________________________________________________________________________________________________________________________________________________________\n",
    "# class Institute:\n",
    "#     def __init__(self, name, location):\n",
    "#         self.name = name\n",
    "#         self.location = location\n",
    "# # \n",
    "#     def display_info(self):\n",
    "#         print(f\"Institution: {self.name}, Location: {self.location}\")\n",
    "\n",
    "# # Derived class: Staff\n",
    "# class Staff(Institute):\n",
    "#     def __init__(self, name, location, staff_name, position):\n",
    "#         super().__init__(name, location)\n",
    "#         self.staff_name = staff_name\n",
    "#         self.position = position\n",
    "\n",
    "#     def save_to_db(self, connection):\n",
    "#         cursor = connection.cursor()\n",
    "#         cursor.execute('''\n",
    "#             INSERT INTO Staff (name, position, institute_name, location)\n",
    "#             VALUES (?, ?, ?, ?)\n",
    "#         ''', (self.staff_name, self.position, self.name, self.location))\n",
    "#         connection.commit()\n",
    "#         print(f\"Staff {self.staff_name} saved to the database.\")\n",
    "\n",
    "#     @staticmethod\n",
    "#     def fetch_all(connection, institute_name=None, location=None):\n",
    "#         query = 'SELECT * FROM Staff'\n",
    "#         params = []\n",
    "#         if institute_name and location:\n",
    "#             query += ' WHERE institute_name = ? AND location = ?'\n",
    "#             params = [institute_name, location]\n",
    "#         return pd.read_sql(query, connection, params=params)\n",
    "\n",
    "# # Derived class: Student\n",
    "# class Student(Institute):\n",
    "#     def __init__(self, name, location, student_name, course):\n",
    "#         super().__init__(name, location)\n",
    "#         self.student_name = student_name\n",
    "#         self.course = course\n",
    "\n",
    "#     def save_to_db(self, connection):\n",
    "#         cursor = connection.cursor()\n",
    "#         cursor.execute('''\n",
    "#             INSERT INTO Students (name, course, institute_name, location)\n",
    "#             VALUES (?, ?, ?, ?)\n",
    "#         ''', (self.student_name, self.course, self.name, self.location))\n",
    "#         connection.commit()\n",
    "#         print(f\"Student {self.student_name} saved to the database.\")\n",
    "\n",
    "#     @staticmethod\n",
    "#     def fetch_all(connection, institute_name=None, location=None):\n",
    "#         query = 'SELECT * FROM Students'\n",
    "#         params = []\n",
    "#         if institute_name and location:\n",
    "#             query += ' WHERE institute_name = ? AND location = ?'\n",
    "#             params = [institute_name, location]\n",
    "#         return pd.read_sql(query, connection, params=params)\n",
    "\n",
    "# #_____________________________________________________________________________________________________________________________________________________________\n",
    "\n",
    "# # Main program with input validation\n",
    "# def main():\n",
    "#     # Input validation for institute name\n",
    "#     valid_institutes = ['NTI', 'ITI']\n",
    "#     while True:\n",
    "#         name = input('Choose Institute Name [NTI, ITI]: ').strip().upper()\n",
    "#         if name in valid_institutes:\n",
    "#             break\n",
    "#         else:\n",
    "#             print(\"Invalid institute name. Please choose either 'NTI' or 'ITI'.\")\n",
    "\n",
    "#     # Input validation for location\n",
    "#     while True:\n",
    "#         location = input('Enter Institute Location: ').strip()\n",
    "#         if location:\n",
    "#             break\n",
    "#         else:\n",
    "#             print(\"Location cannot be empty. Please enter a valid location.\")\n",
    "\n",
    "#     # Create an institute\n",
    "#     institute = Institute(name, location)\n",
    "\n",
    "#     # Connect to the database\n",
    "#     connection = connect_to_db()\n",
    "\n",
    "#     while True:\n",
    "#         print(\"\\n--- Institute Management System ---\")\n",
    "#         print(\"1. Add Staff\")\n",
    "#         print(\"2. Add Student\")\n",
    "#         print(\"3. Display All Staff\")\n",
    "#         print(\"4. Display All Students\")\n",
    "#         print(\"5. Exit\")\n",
    "\n",
    "#         choice = input(\"Enter your choice: \")\n",
    "\n",
    "#         if choice == '1':\n",
    "#             staff_name = input(\"Enter staff name: \").strip()\n",
    "#             position = input(\"Enter position: \").strip()\n",
    "#             staff = Staff(institute.name, institute.location, staff_name, position)\n",
    "#             staff.save_to_db(connection)\n",
    "\n",
    "#         elif choice == '2':\n",
    "#             student_name = input(\"Enter student name: \").strip()\n",
    "#             course = input(\"Enter course: \").strip()\n",
    "#             student = Student(institute.name, institute.location, student_name, course)\n",
    "#             student.save_to_db(connection)\n",
    "\n",
    "#         elif choice == '3':\n",
    "#             print(\"\\nStaff Members at\", institute.name, \"in\", institute.location)\n",
    "#             staff_members_df = Staff.fetch_all(connection, institute_name=institute.name, location=institute.location)\n",
    "#             print(staff_members_df)\n",
    "\n",
    "#         elif choice == '4':\n",
    "#             print(\"\\nStudents at\", institute.name, \"in\", institute.location)\n",
    "#             students_df = Student.fetch_all(connection, institute_name=institute.name, location=institute.location)\n",
    "#             print(students_df)\n",
    "\n",
    "#         elif choice == '5':\n",
    "#             print(\"Exiting the program.\")\n",
    "#             break\n",
    "\n",
    "#         else:\n",
    "#             print(\"Invalid choice, please try again.\")\n",
    "\n",
    "#     connection.close()\n",
    "\n",
    "# if __name__ == \"__main__\":\n",
    "#     main()\n"
   ]
  },
  {
   "cell_type": "code",
   "execution_count": null,
   "id": "7aacfc90-cc49-4ace-bcd2-3babd19a75d7",
   "metadata": {},
   "outputs": [],
   "source": []
  },
  {
   "cell_type": "code",
   "execution_count": null,
   "id": "2b4b3436-8d85-4d6c-a1c3-31dfbbe18a06",
   "metadata": {},
   "outputs": [],
   "source": []
  },
  {
   "cell_type": "code",
   "execution_count": null,
   "id": "53e8e937-0470-469f-92d9-fb626187c574",
   "metadata": {},
   "outputs": [],
   "source": []
  },
  {
   "cell_type": "code",
   "execution_count": null,
   "id": "44d1255c-8fdd-41a2-9c19-da632b24b2c1",
   "metadata": {},
   "outputs": [],
   "source": []
  },
  {
   "cell_type": "code",
   "execution_count": null,
   "id": "d83f5e13-4590-476c-8f93-cd1bcceea5e1",
   "metadata": {},
   "outputs": [],
   "source": []
  },
  {
   "cell_type": "code",
   "execution_count": 19,
   "id": "5c5823cb-a825-4c96-93f6-317208b31a3c",
   "metadata": {},
   "outputs": [
    {
     "name": "stdin",
     "output_type": "stream",
     "text": [
      "Choose Institute Name [NTI, ITI]:  iti\n",
      "Enter Institute Location:  cairo\n"
     ]
    },
    {
     "name": "stdout",
     "output_type": "stream",
     "text": [
      "\n",
      "--- Institute Management System ---\n",
      "1. Manage Staff\n",
      "2. Manage Students\n",
      "3. Exit\n"
     ]
    },
    {
     "name": "stdin",
     "output_type": "stream",
     "text": [
      "Enter your choice:  2\n"
     ]
    },
    {
     "name": "stdout",
     "output_type": "stream",
     "text": [
      "\n",
      "--- Student Management System ---\n",
      "1. Add Student\n",
      "2. Display All Students\n",
      "3. Delete Student by ID\n",
      "4. Edit Student by ID\n",
      "5. Exit\n"
     ]
    },
    {
     "name": "stdin",
     "output_type": "stream",
     "text": [
      "Enter your choice:  5\n"
     ]
    },
    {
     "name": "stdout",
     "output_type": "stream",
     "text": [
      "Exiting the program.\n",
      "\n",
      "--- Institute Management System ---\n",
      "1. Manage Staff\n",
      "2. Manage Students\n",
      "3. Exit\n"
     ]
    },
    {
     "name": "stdin",
     "output_type": "stream",
     "text": [
      "Enter your choice:  1\n"
     ]
    },
    {
     "name": "stdout",
     "output_type": "stream",
     "text": [
      "\n",
      "--- Staff Management System ---\n",
      "1. Add Staff\n",
      "2. Display All Staff\n",
      "3. Delete Staff by ID\n",
      "4. Edit Staff by ID\n",
      "5. Exit\n"
     ]
    },
    {
     "name": "stdin",
     "output_type": "stream",
     "text": [
      "Enter your choice:  2\n"
     ]
    },
    {
     "name": "stderr",
     "output_type": "stream",
     "text": [
      "C:\\Users\\Mahmoud\\AppData\\Local\\Temp\\ipykernel_1380\\1427605004.py:64: UserWarning: pandas only supports SQLAlchemy connectable (engine/connection) or database string URI or sqlite3 DBAPI2 connection. Other DBAPI2 objects are not tested. Please consider using SQLAlchemy.\n",
      "  return pd.read_sql(query, connection, params=params)\n"
     ]
    },
    {
     "name": "stdout",
     "output_type": "stream",
     "text": [
      "\n",
      "All Staff Members\n",
      "Empty DataFrame\n",
      "Columns: [id, name, position, institute_name, location]\n",
      "Index: []\n",
      "\n",
      "--- Staff Management System ---\n",
      "1. Add Staff\n",
      "2. Display All Staff\n",
      "3. Delete Staff by ID\n",
      "4. Edit Staff by ID\n",
      "5. Exit\n"
     ]
    },
    {
     "name": "stdin",
     "output_type": "stream",
     "text": [
      "Enter your choice:  5\n"
     ]
    },
    {
     "name": "stdout",
     "output_type": "stream",
     "text": [
      "Exiting the program.\n",
      "\n",
      "--- Institute Management System ---\n",
      "1. Manage Staff\n",
      "2. Manage Students\n",
      "3. Exit\n"
     ]
    },
    {
     "name": "stdin",
     "output_type": "stream",
     "text": [
      "Enter your choice:  2\n"
     ]
    },
    {
     "name": "stdout",
     "output_type": "stream",
     "text": [
      "\n",
      "--- Student Management System ---\n",
      "1. Add Student\n",
      "2. Display All Students\n",
      "3. Delete Student by ID\n",
      "4. Edit Student by ID\n",
      "5. Exit\n"
     ]
    },
    {
     "name": "stdin",
     "output_type": "stream",
     "text": [
      "Enter your choice:  3\n",
      "Enter Student ID to delete:  3\n"
     ]
    },
    {
     "name": "stdout",
     "output_type": "stream",
     "text": [
      "Student with ID 3 deleted.\n",
      "\n",
      "--- Student Management System ---\n",
      "1. Add Student\n",
      "2. Display All Students\n",
      "3. Delete Student by ID\n",
      "4. Edit Student by ID\n",
      "5. Exit\n"
     ]
    },
    {
     "name": "stdin",
     "output_type": "stream",
     "text": [
      "Enter your choice:  2\n"
     ]
    },
    {
     "name": "stderr",
     "output_type": "stream",
     "text": [
      "C:\\Users\\Mahmoud\\AppData\\Local\\Temp\\ipykernel_1380\\1427605004.py:107: UserWarning: pandas only supports SQLAlchemy connectable (engine/connection) or database string URI or sqlite3 DBAPI2 connection. Other DBAPI2 objects are not tested. Please consider using SQLAlchemy.\n",
      "  return pd.read_sql(query, connection, params=params)\n"
     ]
    },
    {
     "name": "stdout",
     "output_type": "stream",
     "text": [
      "\n",
      "All Students\n",
      "Empty DataFrame\n",
      "Columns: [id, name, course, institute_name, location]\n",
      "Index: []\n",
      "\n",
      "--- Student Management System ---\n",
      "1. Add Student\n",
      "2. Display All Students\n",
      "3. Delete Student by ID\n",
      "4. Edit Student by ID\n",
      "5. Exit\n"
     ]
    },
    {
     "name": "stdin",
     "output_type": "stream",
     "text": [
      "Enter your choice:  5\n"
     ]
    },
    {
     "name": "stdout",
     "output_type": "stream",
     "text": [
      "Exiting the program.\n",
      "\n",
      "--- Institute Management System ---\n",
      "1. Manage Staff\n",
      "2. Manage Students\n",
      "3. Exit\n"
     ]
    },
    {
     "name": "stdin",
     "output_type": "stream",
     "text": [
      "Enter your choice:  3\n"
     ]
    },
    {
     "name": "stdout",
     "output_type": "stream",
     "text": [
      "Exiting the program.\n"
     ]
    }
   ],
   "source": [
    "import pyodbc\n",
    "import pandas as pd\n",
    "\n",
    "# Database connection setup\n",
    "def connect_to_db():\n",
    "    connection = pyodbc.connect(\n",
    "        'DRIVER={SQL Server};'\n",
    "        'SERVER=DESKTOP-DBCQQQ4;'  \n",
    "        'DATABASE=InstituteDB;'     \n",
    "        'Trusted_Connection=yes;'\n",
    "    )\n",
    "    return connection\n",
    "\n",
    "# Base class: Institute\n",
    "class Institute:\n",
    "    def __init__(self, name, location):\n",
    "        self.name = name\n",
    "        self.location = location\n",
    "\n",
    "    def display_info(self):\n",
    "        print(f\"Institution: {self.name}, Location: {self.location}\")\n",
    "\n",
    "# Derived class: Staff\n",
    "class Staff(Institute):\n",
    "    def __init__(self, name, location, staff_name, position):\n",
    "        super().__init__(name, location)\n",
    "        self.staff_name = staff_name\n",
    "        self.position = position\n",
    "\n",
    "    def save_to_db(self, connection):\n",
    "        cursor = connection.cursor()\n",
    "        cursor.execute('''\n",
    "            INSERT INTO Staff (name, position, institute_name, location)\n",
    "            VALUES (?, ?, ?, ?)\n",
    "        ''', (self.staff_name, self.position, self.name, self.location))\n",
    "        connection.commit()\n",
    "        print(f\"Staff {self.staff_name} saved to the database.\")\n",
    "\n",
    "    @staticmethod\n",
    "    def delete_by_id(connection, staff_id):\n",
    "        cursor = connection.cursor()\n",
    "        cursor.execute('DELETE FROM Staff WHERE id = ?', (staff_id,))\n",
    "        connection.commit()\n",
    "        print(f\"Staff with ID {staff_id} deleted.\")\n",
    "\n",
    "    @staticmethod\n",
    "    def edit_by_id(connection, staff_id, new_name, new_position):\n",
    "        cursor = connection.cursor()\n",
    "        cursor.execute('''\n",
    "            UPDATE Staff\n",
    "            SET name = ?, position = ?\n",
    "            WHERE id = ?\n",
    "        ''', (new_name, new_position, staff_id))\n",
    "        connection.commit()\n",
    "        print(f\"Staff with ID {staff_id} updated.\")\n",
    "\n",
    "    @staticmethod\n",
    "    def fetch_all(connection, institute_name=None, location=None):\n",
    "        query = 'SELECT * FROM Staff'\n",
    "        params = []\n",
    "        if institute_name and location:\n",
    "            query += ' WHERE institute_name = ? AND location = ?'\n",
    "            params = [institute_name, location]\n",
    "        return pd.read_sql(query, connection, params=params)\n",
    "\n",
    "# Derived class: Student\n",
    "class Student(Institute):\n",
    "    def __init__(self, name, location, student_name, course):\n",
    "        super().__init__(name, location)\n",
    "        self.student_name = student_name\n",
    "        self.course = course\n",
    "\n",
    "    def save_to_db(self, connection):\n",
    "        cursor = connection.cursor()\n",
    "        cursor.execute('''\n",
    "            INSERT INTO Students (name, course, institute_name, location)\n",
    "            VALUES (?, ?, ?, ?)\n",
    "        ''', (self.student_name, self.course, self.name, self.location))\n",
    "        connection.commit()\n",
    "        print(f\"Student {self.student_name} saved to the database.\")\n",
    "\n",
    "    @staticmethod\n",
    "    def delete_by_id(connection, student_id):\n",
    "        cursor = connection.cursor()\n",
    "        cursor.execute('DELETE FROM Students WHERE id = ?', (student_id,))\n",
    "        connection.commit()\n",
    "        print(f\"Student with ID {student_id} deleted.\")\n",
    "\n",
    "    @staticmethod\n",
    "    def edit_by_id(connection, student_id, new_name, new_course):\n",
    "        cursor = connection.cursor()\n",
    "        cursor.execute('''\n",
    "            UPDATE Students\n",
    "            SET name = ?, course = ?\n",
    "            WHERE id = ?\n",
    "        ''', (new_name, new_course, student_id))\n",
    "        connection.commit()\n",
    "        print(f\"Student with ID {student_id} updated.\")\n",
    "\n",
    "    @staticmethod\n",
    "    def fetch_all(connection, institute_name=None, location=None):\n",
    "        query = 'SELECT * FROM Students'\n",
    "        params = []\n",
    "        if institute_name and location:\n",
    "            query += ' WHERE institute_name = ? AND location = ?'\n",
    "            params = [institute_name, location]\n",
    "        return pd.read_sql(query, connection, params=params)\n",
    "\n",
    "def mainstaff(connection, institute_name, location):\n",
    "    while True:\n",
    "        print(\"\\n--- Staff Management System ---\")\n",
    "        print(\"1. Add Staff\")\n",
    "        print(\"2. Display All Staff\")\n",
    "        print(\"3. Delete Staff by ID\")\n",
    "        print(\"4. Edit Staff by ID\")\n",
    "        print(\"5. Exit\")\n",
    "\n",
    "        choice = input(\"Enter your choice: \")\n",
    "\n",
    "        if choice == '1':\n",
    "            staff_name = input(\"Enter staff name: \").strip()\n",
    "            position = input(\"Enter position: \").strip()\n",
    "            staff = Staff(institute_name, location, staff_name, position)\n",
    "            staff.save_to_db(connection)\n",
    "\n",
    "        elif choice == '2':\n",
    "            print(\"\\nAll Staff Members\")\n",
    "            staff_members_df = Staff.fetch_all(connection, institute_name, location)\n",
    "            print(staff_members_df)\n",
    "\n",
    "        elif choice == '3':\n",
    "            staff_id = int(input(\"Enter Staff ID to delete: \"))\n",
    "            Staff.delete_by_id(connection, staff_id)\n",
    "\n",
    "        elif choice == '4':\n",
    "            staff_id = int(input(\"Enter Staff ID to edit: \"))\n",
    "            new_name = input(\"Enter new staff name: \").strip()\n",
    "            new_position = input(\"Enter new position: \").strip()\n",
    "            Staff.edit_by_id(connection, staff_id, new_name, new_position)\n",
    "\n",
    "        elif choice == '5':\n",
    "            print(\"Exiting the program.\")\n",
    "            break\n",
    "\n",
    "        else:\n",
    "            print(\"Invalid choice, please try again.\")\n",
    "\n",
    "def mainstudent(connection, institute_name, location):\n",
    "    while True:\n",
    "        print(\"\\n--- Student Management System ---\")\n",
    "        print(\"1. Add Student\")\n",
    "        print(\"2. Display All Students\")\n",
    "        print(\"3. Delete Student by ID\")\n",
    "        print(\"4. Edit Student by ID\")\n",
    "        print(\"5. Exit\")\n",
    "\n",
    "        choice = input(\"Enter your choice: \")\n",
    "\n",
    "        if choice == '1':\n",
    "            student_name = input(\"Enter student name: \").strip()\n",
    "            course = input(\"Enter course: \").strip()\n",
    "            student = Student(institute_name, location, student_name, course)\n",
    "            student.save_to_db(connection)\n",
    "\n",
    "        elif choice == '2':\n",
    "            print(\"\\nAll Students\")\n",
    "            students_df = Student.fetch_all(connection, institute_name, location)\n",
    "            print(students_df)\n",
    "\n",
    "        elif choice == '3':\n",
    "            student_id = int(input(\"Enter Student ID to delete: \"))\n",
    "            Student.delete_by_id(connection, student_id)\n",
    "\n",
    "        elif choice == '4':\n",
    "            student_id = int(input(\"Enter Student ID to edit: \"))\n",
    "            new_name = input(\"Enter new student name: \").strip()\n",
    "            new_course = input(\"Enter new course: \").strip()\n",
    "            Student.edit_by_id(connection, student_id, new_name, new_course)\n",
    "\n",
    "        elif choice == '5':\n",
    "            print(\"Exiting the program.\")\n",
    "            break\n",
    "\n",
    "        else:\n",
    "            print(\"Invalid choice, please try again.\")\n",
    "\n",
    "# Main program with CRUD operations\n",
    "def main():\n",
    "    # Input validation for institute name\n",
    "    valid_institutes = ['NTI', 'ITI']\n",
    "    while True:\n",
    "        name = input('Choose Institute Name [NTI, ITI]: ').strip().upper()\n",
    "        if name in valid_institutes:\n",
    "            break\n",
    "        else:\n",
    "            print(\"Invalid institute name. Please choose either 'NTI' or 'ITI'.\")\n",
    "\n",
    "    # Input validation for location\n",
    "    while True:\n",
    "        location = input('Enter Institute Location: ').strip()\n",
    "        if location:\n",
    "            break\n",
    "        else:\n",
    "            print(\"Location cannot be empty. Please enter a valid location.\")\n",
    "\n",
    "    # Create an institute\n",
    "    institute = Institute(name, location)\n",
    "\n",
    "    # Connect to the database\n",
    "    connection = connect_to_db()\n",
    "\n",
    "    while True:\n",
    "        print(\"\\n--- Institute Management System ---\")\n",
    "        print(\"1. Manage Staff\")\n",
    "        print(\"2. Manage Students\")\n",
    "        print(\"3. Exit\")\n",
    "\n",
    "        choice = input(\"Enter your choice: \")\n",
    "\n",
    "        if choice == '1':\n",
    "            mainstaff(connection, institute.name, institute.location)\n",
    "\n",
    "        elif choice == '2':\n",
    "            mainstudent(connection, institute.name, institute.location)\n",
    "\n",
    "        elif choice == '3':\n",
    "            print(\"Exiting the program.\")\n",
    "            break\n",
    "\n",
    "        else:\n",
    "            print(\"Invalid choice, please try again.\")\n",
    "\n",
    "    connection.close()\n",
    "\n",
    "if __name__ == \"__main__\":\n",
    "    main()\n"
   ]
  },
  {
   "cell_type": "code",
   "execution_count": null,
   "id": "e5ad29ce-51f8-45c6-81a2-2bc168353d07",
   "metadata": {},
   "outputs": [],
   "source": []
  },
  {
   "cell_type": "code",
   "execution_count": null,
   "id": "eb156e1e-8a18-4cfa-8203-4c29ad4abd9b",
   "metadata": {},
   "outputs": [],
   "source": []
  },
  {
   "cell_type": "code",
   "execution_count": null,
   "id": "aa331f54-1314-4119-af57-4e2636f1f20a",
   "metadata": {},
   "outputs": [],
   "source": []
  },
  {
   "cell_type": "code",
   "execution_count": null,
   "id": "23c5b5a2-f2d8-4710-bdd9-3c8305997833",
   "metadata": {},
   "outputs": [],
   "source": []
  },
  {
   "cell_type": "code",
   "execution_count": 23,
   "id": "579d54c1-71c4-4a34-b7de-56a1d26fd010",
   "metadata": {},
   "outputs": [
    {
     "name": "stdout",
     "output_type": "stream",
     "text": [
      "\n",
      "--- User Authentication ---\n",
      "1. Register\n",
      "2. Login\n",
      "3. Exit\n"
     ]
    },
    {
     "name": "stdin",
     "output_type": "stream",
     "text": [
      "Enter your choice:  1\n",
      "Enter username:  mahmoud21\n",
      "Enter password:  mahmoud\n",
      "Enter role (admin/staff):  staff\n"
     ]
    },
    {
     "name": "stdout",
     "output_type": "stream",
     "text": [
      "User mahmoud21 registered successfully.\n",
      "\n",
      "--- User Authentication ---\n",
      "1. Register\n",
      "2. Login\n",
      "3. Exit\n"
     ]
    },
    {
     "name": "stdin",
     "output_type": "stream",
     "text": [
      "Enter your choice:  2\n",
      "Enter username:  mahmoud12\n",
      "Enter password:  mahmoud\n"
     ]
    },
    {
     "name": "stdout",
     "output_type": "stream",
     "text": [
      "Invalid username or password.\n",
      "\n",
      "--- User Authentication ---\n",
      "1. Register\n",
      "2. Login\n",
      "3. Exit\n"
     ]
    },
    {
     "name": "stdin",
     "output_type": "stream",
     "text": [
      "Enter your choice:  mahmoud21\n"
     ]
    },
    {
     "name": "stdout",
     "output_type": "stream",
     "text": [
      "Invalid choice, please try again.\n",
      "\n",
      "--- User Authentication ---\n",
      "1. Register\n",
      "2. Login\n",
      "3. Exit\n"
     ]
    },
    {
     "name": "stdin",
     "output_type": "stream",
     "text": [
      "Enter your choice:  2\n",
      "Enter username:  mahmoud21\n",
      "Enter password:  mahmoud\n"
     ]
    },
    {
     "name": "stdout",
     "output_type": "stream",
     "text": [
      "Welcome, mahmoud21!\n"
     ]
    },
    {
     "name": "stdin",
     "output_type": "stream",
     "text": [
      "Choose Institute Name [NTI, ITI]:  nti\n",
      "Enter Institute Location:  cairo\n"
     ]
    },
    {
     "name": "stdout",
     "output_type": "stream",
     "text": [
      "\n",
      "--- Institute Management System ---\n",
      "1. Manage Staff\n",
      "2. Manage Students\n",
      "3. Exit\n"
     ]
    },
    {
     "name": "stdin",
     "output_type": "stream",
     "text": [
      "Enter your choice:  1\n"
     ]
    },
    {
     "name": "stdout",
     "output_type": "stream",
     "text": [
      "\n",
      "--- Staff Management System ---\n",
      "1. Add Staff\n",
      "2. Display All Staff\n",
      "3. Delete Staff by ID\n",
      "4. Edit Staff by ID\n",
      "5. Exit\n"
     ]
    },
    {
     "name": "stdin",
     "output_type": "stream",
     "text": [
      "Enter your choice:  3\n",
      "Enter Staff ID to delete:  1\n"
     ]
    },
    {
     "name": "stdout",
     "output_type": "stream",
     "text": [
      "Only admins can delete staff.\n",
      "\n",
      "--- Staff Management System ---\n",
      "1. Add Staff\n",
      "2. Display All Staff\n",
      "3. Delete Staff by ID\n",
      "4. Edit Staff by ID\n",
      "5. Exit\n"
     ]
    },
    {
     "name": "stdin",
     "output_type": "stream",
     "text": [
      "Enter your choice:  5\n"
     ]
    },
    {
     "name": "stdout",
     "output_type": "stream",
     "text": [
      "Exiting the program.\n",
      "\n",
      "--- Institute Management System ---\n",
      "1. Manage Staff\n",
      "2. Manage Students\n",
      "3. Exit\n"
     ]
    },
    {
     "name": "stdin",
     "output_type": "stream",
     "text": [
      "Enter your choice:  3\n"
     ]
    },
    {
     "name": "stdout",
     "output_type": "stream",
     "text": [
      "Exiting the program.\n"
     ]
    }
   ],
   "source": [
    "import pyodbc\n",
    "import pandas as pd\n",
    "import hashlib\n",
    "\n",
    "# Database connection setup\n",
    "def connect_to_db():\n",
    "    connection = pyodbc.connect(\n",
    "        'DRIVER={SQL Server};'\n",
    "        'SERVER=DESKTOP-DBCQQQ4;'  \n",
    "        'DATABASE=InstituteDB;'     \n",
    "        'Trusted_Connection=yes;'\n",
    "    )\n",
    "    return connection\n",
    "\n",
    "# Utility function to hash passwords\n",
    "def hash_password(password):\n",
    "    return hashlib.sha256(password.encode()).hexdigest()\n",
    "\n",
    "# User class for handling registration and login\n",
    "class User:\n",
    "    def __init__(self, username, role):\n",
    "        self.username = username\n",
    "        self.role = role\n",
    "\n",
    "    @staticmethod\n",
    "    def register(connection, username, password, role):\n",
    "        cursor = connection.cursor()\n",
    "        hashed_password = hash_password(password)\n",
    "        cursor.execute('''\n",
    "            INSERT INTO Users (username, password, role)\n",
    "            VALUES (?, ?, ?)\n",
    "        ''', (username, hashed_password, role))\n",
    "        connection.commit()\n",
    "        print(f\"User {username} registered successfully.\")\n",
    "\n",
    "    @staticmethod\n",
    "    def login(connection, username, password):\n",
    "        cursor = connection.cursor()\n",
    "        hashed_password = hash_password(password)\n",
    "        cursor.execute('''\n",
    "            SELECT username, role FROM Users WHERE username = ? AND password = ?\n",
    "        ''', (username, hashed_password))\n",
    "        result = cursor.fetchone()\n",
    "        if result:\n",
    "            print(f\"Welcome, {username}!\")\n",
    "            return User(result[0], result[1])\n",
    "        else:\n",
    "            print(\"Invalid username or password.\")\n",
    "            return None\n",
    "\n",
    "# Base class: Institute\n",
    "class Institute:\n",
    "    def __init__(self, name, location):\n",
    "        self.name = name\n",
    "        self.location = location\n",
    "\n",
    "    def display_info(self):\n",
    "        print(f\"Institution: {self.name}, Location: {self.location}\")\n",
    "\n",
    "# Derived class: Staff\n",
    "class Staff(Institute):\n",
    "    def __init__(self, name, location, staff_name, position):\n",
    "        super().__init__(name, location)\n",
    "        self.staff_name = staff_name\n",
    "        self.position = position\n",
    "\n",
    "    def save_to_db(self, connection):\n",
    "        cursor = connection.cursor()\n",
    "        cursor.execute('''\n",
    "            INSERT INTO Staff (name, position, institute_name, location)\n",
    "            VALUES (?, ?, ?, ?)\n",
    "        ''', (self.staff_name, self.position, self.name, self.location))\n",
    "        connection.commit()\n",
    "        print(f\"Staff {self.staff_name} saved to the database.\")\n",
    "\n",
    "    @staticmethod\n",
    "    def delete_by_id(connection, staff_id, user):\n",
    "        if user.role != 'admin':\n",
    "            print(\"Only admins can delete staff.\")\n",
    "            return\n",
    "        cursor = connection.cursor()\n",
    "        cursor.execute('DELETE FROM Staff WHERE id = ?', (staff_id,))\n",
    "        connection.commit()\n",
    "        print(f\"Staff with ID {staff_id} deleted.\")\n",
    "\n",
    "    @staticmethod\n",
    "    def edit_by_id(connection, staff_id, new_name, new_position, user):\n",
    "        if user.role != 'admin':\n",
    "            print(\"Only admins can edit staff.\")\n",
    "            return\n",
    "        cursor = connection.cursor()\n",
    "        cursor.execute('''\n",
    "            UPDATE Staff\n",
    "            SET name = ?, position = ?\n",
    "            WHERE id = ?\n",
    "        ''', (new_name, new_position, staff_id))\n",
    "        connection.commit()\n",
    "        print(f\"Staff with ID {staff_id} updated.\")\n",
    "\n",
    "    @staticmethod\n",
    "    def fetch_all(connection, institute_name=None, location=None):\n",
    "        query = 'SELECT * FROM Staff'\n",
    "        params = []\n",
    "        if institute_name and location:\n",
    "            query += ' WHERE institute_name = ? AND location = ?'\n",
    "            params = [institute_name, location]\n",
    "        return pd.read_sql(query, connection, params=params)\n",
    "\n",
    "# Derived class: Student\n",
    "class Student(Institute):\n",
    "    def __init__(self, name, location, student_name, course):\n",
    "        super().__init__(name, location)\n",
    "        self.student_name = student_name\n",
    "        self.course = course\n",
    "\n",
    "    def save_to_db(self, connection):\n",
    "        cursor = connection.cursor()\n",
    "        cursor.execute('''\n",
    "            INSERT INTO Students (name, course, institute_name, location)\n",
    "            VALUES (?, ?, ?, ?)\n",
    "        ''', (self.student_name, self.course, self.name, self.location))\n",
    "        connection.commit()\n",
    "        print(f\"Student {self.student_name} saved to the database.\")\n",
    "\n",
    "    @staticmethod\n",
    "    def delete_by_id(connection, student_id, user):\n",
    "        if user.role != 'admin':\n",
    "            print(\"Only admins can delete students.\")\n",
    "            return\n",
    "        cursor = connection.cursor()\n",
    "        cursor.execute('DELETE FROM Students WHERE id = ?', (student_id,))\n",
    "        connection.commit()\n",
    "        print(f\"Student with ID {student_id} deleted.\")\n",
    "\n",
    "    @staticmethod\n",
    "    def edit_by_id(connection, student_id, new_name, new_course, user):\n",
    "        if user.role != 'admin':\n",
    "            print(\"Only admins can edit students.\")\n",
    "            return\n",
    "        cursor = connection.cursor()\n",
    "        cursor.execute('''\n",
    "            UPDATE Students\n",
    "            SET name = ?, course = ?\n",
    "            WHERE id = ?\n",
    "        ''', (new_name, new_course, student_id))\n",
    "        connection.commit()\n",
    "        print(f\"Student with ID {student_id} updated.\")\n",
    "\n",
    "    @staticmethod\n",
    "    def fetch_all(connection, institute_name=None, location=None):\n",
    "        query = 'SELECT * FROM Students'\n",
    "        params = []\n",
    "        if institute_name and location:\n",
    "            query += ' WHERE institute_name = ? AND location = ?'\n",
    "            params = [institute_name, location]\n",
    "        return pd.read_sql(query, connection, params=params)\n",
    "\n",
    "def mainstaff(connection, institute_name, location, user):\n",
    "    while True:\n",
    "        print(\"\\n--- Staff Management System ---\")\n",
    "        print(\"1. Add Staff\")\n",
    "        print(\"2. Display All Staff\")\n",
    "        print(\"3. Delete Staff by ID\")\n",
    "        print(\"4. Edit Staff by ID\")\n",
    "        print(\"5. Exit\")\n",
    "\n",
    "        choice = input(\"Enter your choice: \")\n",
    "\n",
    "        if choice == '1':\n",
    "            staff_name = input(\"Enter staff name: \").strip()\n",
    "            position = input(\"Enter position: \").strip()\n",
    "            staff = Staff(institute_name, location, staff_name, position)\n",
    "            staff.save_to_db(connection)\n",
    "\n",
    "        elif choice == '2':\n",
    "            print(\"\\nAll Staff Members\")\n",
    "            staff_members_df = Staff.fetch_all(connection, institute_name, location)\n",
    "            print(staff_members_df)\n",
    "\n",
    "        elif choice == '3':\n",
    "            staff_id = int(input(\"Enter Staff ID to delete: \"))\n",
    "            Staff.delete_by_id(connection, staff_id, user)\n",
    "\n",
    "        elif choice == '4':\n",
    "            staff_id = int(input(\"Enter Staff ID to edit: \"))\n",
    "            new_name = input(\"Enter new staff name: \").strip()\n",
    "            new_position = input(\"Enter new position: \").strip()\n",
    "            Staff.edit_by_id(connection, staff_id, new_name, new_position, user)\n",
    "\n",
    "        elif choice == '5':\n",
    "            print(\"Exiting the program.\")\n",
    "            break\n",
    "\n",
    "        else:\n",
    "            print(\"Invalid choice, please try again.\")\n",
    "\n",
    "def mainstudent(connection, institute_name, location, user):\n",
    "    while True:\n",
    "        print(\"\\n--- Student Management System ---\")\n",
    "        print(\"1. Add Student\")\n",
    "        print(\"2. Display All Students\")\n",
    "        print(\"3. Delete Student by ID\")\n",
    "        print(\"4. Edit Student by ID\")\n",
    "        print(\"5. Exit\")\n",
    "\n",
    "        choice = input(\"Enter your choice: \")\n",
    "\n",
    "        if choice == '1':\n",
    "            student_name = input(\"Enter student name: \").strip()\n",
    "            course = input(\"Enter course: \").strip()\n",
    "            student = Student(institute_name, location, student_name, course)\n",
    "            student.save_to_db(connection)\n",
    "\n",
    "        elif choice == '2':\n",
    "            print(\"\\nAll Students\")\n",
    "            students_df = Student.fetch_all(connection, institute_name, location)\n",
    "            print(students_df)\n",
    "\n",
    "        elif choice == '3':\n",
    "            student_id = int(input(\"Enter Student ID to delete: \"))\n",
    "            Student.delete_by_id(connection, student_id, user)\n",
    "\n",
    "        elif choice == '4':\n",
    "            student_id = int(input(\"Enter Student ID to edit: \"))\n",
    "            new_name = input(\"Enter new student name: \").strip()\n",
    "            new_course = input(\"Enter new course: \").strip()\n",
    "            Student.edit_by_id(connection, student_id, new_name, new_course, user)\n",
    "\n",
    "        elif choice == '5':\n",
    "            print(\"Exiting the program.\")\n",
    "            break\n",
    "\n",
    "        else:\n",
    "            print(\"Invalid choice, please try again.\")\n",
    "\n",
    "# Main program with login, registration, and CRUD operations\n",
    "def main():\n",
    "    connection = connect_to_db()\n",
    "\n",
    "    while True:\n",
    "        print(\"\\n--- User Authentication ---\")\n",
    "        print(\"1. Register\")\n",
    "        print(\"2. Login\")\n",
    "        print(\"3. Exit\")\n",
    "\n",
    "        choice = input(\"Enter your choice: \")\n",
    "\n",
    "        if choice == '1':\n",
    "            username = input(\"Enter username: \").strip()\n",
    "            password = input(\"Enter password: \").strip()\n",
    "            role = input(\"Enter role (admin/staff): \").strip().lower()\n",
    "            if role not in ['admin', 'staff']:\n",
    "                print(\"Invalid role. Please choose 'admin' or 'staff'.\")\n",
    "                continue\n",
    "            User.register(connection, username, password, role)\n",
    "\n",
    "        elif choice == '2':\n",
    "            username = input(\"Enter username: \").strip()\n",
    "            password = input(\"Enter password: \").strip()\n",
    "            user = User.login(connection, username, password)\n",
    "            if user:\n",
    "                break\n",
    "\n",
    "        elif choice == '3':\n",
    "            print(\"Exiting the program.\")\n",
    "            connection.close()\n",
    "            return\n",
    "\n",
    "        else:\n",
    "            print(\"Invalid choice, please try again.\")\n",
    "\n",
    "    # Input validation for institute name\n",
    "    valid_institutes = ['NTI', 'ITI']\n",
    "    while True:\n",
    "        name = input('Choose Institute Name [NTI, ITI]: ').strip().upper()\n",
    "        if name in valid_institutes:\n",
    "            break\n",
    "        else:\n",
    "            print(\"Invalid institute name. Please choose either 'NTI' or 'ITI'.\")\n",
    "\n",
    "    # Input validation for location\n",
    "    while True:\n",
    "        location = input('Enter Institute Location: ').strip()\n",
    "        if location:\n",
    "            break\n",
    "        else:\n",
    "            print(\"Location cannot be empty. Please enter a valid location.\")\n",
    "\n",
    "    # Create an institute\n",
    "    institute = Institute(name, location)\n",
    "\n",
    "    while True:\n",
    "        print(\"\\n--- Institute Management System ---\")\n",
    "        print(\"1. Manage Staff\")\n",
    "        print(\"2. Manage Students\")\n",
    "        print(\"3. Exit\")\n",
    "\n",
    "        choice = input(\"Enter your choice: \")\n",
    "\n",
    "        if choice == '1':\n",
    "            mainstaff(connection, institute.name, institute.location, user)\n",
    "\n",
    "        elif choice == '2':\n",
    "            mainstudent(connection, institute.name, institute.location, user)\n",
    "\n",
    "        elif choice == '3':\n",
    "            print(\"Exiting the program.\")\n",
    "            break\n",
    "\n",
    "        else:\n",
    "            print(\"Invalid choice, please try again.\")\n",
    "\n",
    "    connection.close()\n",
    "\n",
    "if __name__ == \"__main__\":\n",
    "    main()\n"
   ]
  },
  {
   "cell_type": "code",
   "execution_count": null,
   "id": "f167dd76-f631-4a8a-9c3f-20f9607d82af",
   "metadata": {},
   "outputs": [],
   "source": []
  }
 ],
 "metadata": {
  "kernelspec": {
   "display_name": "Python 3 (ipykernel)",
   "language": "python",
   "name": "python3"
  },
  "language_info": {
   "codemirror_mode": {
    "name": "ipython",
    "version": 3
   },
   "file_extension": ".py",
   "mimetype": "text/x-python",
   "name": "python",
   "nbconvert_exporter": "python",
   "pygments_lexer": "ipython3",
   "version": "3.12.4"
  }
 },
 "nbformat": 4,
 "nbformat_minor": 5
}
