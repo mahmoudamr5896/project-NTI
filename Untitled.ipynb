{
 "cells": [
  {
   "cell_type": "code",
   "execution_count": 3,
   "id": "67943a0c-9dcb-4a55-8529-80a37787c246",
   "metadata": {},
   "outputs": [
    {
     "name": "stdout",
     "output_type": "stream",
     "text": [
      "Choose Institute Name [NTI, ITI]:  NTI\n",
      "Enter Institute Location:  Bani swief\n"
     ]
    },
    {
     "name": "stdout",
     "output_type": "stream",
     "text": [
      "\n",
      "--- Institute Management System ---\n",
      "1. Add Staff\n",
      "2. Add Student\n",
      "3. Display All Staff\n",
      "4. Display All Students\n",
      "5. Exit\n"
     ]
    },
    {
     "name": "stdout",
     "output_type": "stream",
     "text": [
      "Enter your choice:  3\n"
     ]
    },
    {
     "name": "stdout",
     "output_type": "stream",
     "text": [
      "\n",
      "Staff Members at NTI in Bani swief\n"
     ]
    },
    {
     "name": "stderr",
     "output_type": "stream",
     "text": [
      "C:\\Users\\Mahmoud\\AppData\\Local\\Temp\\ipykernel_1380\\2280794646.py:43: UserWarning: pandas only supports SQLAlchemy connectable (engine/connection) or database string URI or sqlite3 DBAPI2 connection. Other DBAPI2 objects are not tested. Please consider using SQLAlchemy.\n",
      "  return pd.read_sql(query, connection, params=params)\n"
     ]
    },
    {
     "name": "stdout",
     "output_type": "stream",
     "text": [
      "   id         name  position institute_name    location\n",
      "0   6  Mohmmed ALI  Data Eng            NTI  Bani swief\n",
      "\n",
      "--- Institute Management System ---\n",
      "1. Add Staff\n",
      "2. Add Student\n",
      "3. Display All Staff\n",
      "4. Display All Students\n",
      "5. Exit\n"
     ]
    },
    {
     "name": "stdout",
     "output_type": "stream",
     "text": [
      "Enter your choice:  4\n"
     ]
    },
    {
     "name": "stderr",
     "output_type": "stream",
     "text": [
      "C:\\Users\\Mahmoud\\AppData\\Local\\Temp\\ipykernel_1380\\2280794646.py:68: UserWarning: pandas only supports SQLAlchemy connectable (engine/connection) or database string URI or sqlite3 DBAPI2 connection. Other DBAPI2 objects are not tested. Please consider using SQLAlchemy.\n",
      "  return pd.read_sql(query, connection, params=params)\n"
     ]
    },
    {
     "name": "stdout",
     "output_type": "stream",
     "text": [
      "\n",
      "Students at NTI in Bani swief\n",
      "   id         name         course institute_name    location\n",
      "0   4  Mohmmed Ali  Data cleaning            NTI  Bani swief\n",
      "\n",
      "--- Institute Management System ---\n",
      "1. Add Staff\n",
      "2. Add Student\n",
      "3. Display All Staff\n",
      "4. Display All Students\n",
      "5. Exit\n"
     ]
    },
    {
     "name": "stdout",
     "output_type": "stream",
     "text": [
      "Enter your choice:  5\n"
     ]
    },
    {
     "name": "stdout",
     "output_type": "stream",
     "text": [
      "Exiting the program.\n"
     ]
    }
   ],
   "source": [
    "import pyodbc\n",
    "import pandas as pd\n",
    "def connect_to_db():\n",
    "    connection = pyodbc.connect(\n",
    "        'DRIVER={SQL Server};'\n",
    "        'SERVER=DESKTOP-DBCQQQ4;'  \n",
    "        'DATABASE=InstituteDB;'     \n",
    "        'Trusted_Connection=yes;'\n",
    "    )\n",
    "    return connection\n",
    "# Base class: Institute\n",
    "#__________________________________________________________________________________________________________________________________________________________\n",
    "class Institute:\n",
    "    def __init__(self, name, location):\n",
    "        self.name = name\n",
    "        self.location = location\n",
    "\n",
    "    def display_info(self):\n",
    "        print(f\"Institution: {self.name}, Location: {self.location}\")\n",
    "\n",
    "# Derived class: Staff\n",
    "class Staff(Institute):\n",
    "    def __init__(self, name, location, staff_name, position):\n",
    "        super().__init__(name, location)\n",
    "        self.staff_name = staff_name\n",
    "        self.position = position\n",
    "\n",
    "    def save_to_db(self, connection):\n",
    "        cursor = connection.cursor()\n",
    "        cursor.execute('''\n",
    "            INSERT INTO Staff (name, position, institute_name, location)\n",
    "            VALUES (?, ?, ?, ?)\n",
    "        ''', (self.staff_name, self.position, self.name, self.location))\n",
    "        connection.commit()\n",
    "        print(f\"Staff {self.staff_name} saved to the database.\")\n",
    "\n",
    "    @staticmethod\n",
    "    def fetch_all(connection, institute_name=None, location=None):\n",
    "        query = 'SELECT * FROM Staff'\n",
    "        params = []\n",
    "        if institute_name and location:\n",
    "            query += ' WHERE institute_name = ? AND location = ?'\n",
    "            params = [institute_name, location]\n",
    "        return pd.read_sql(query, connection, params=params)\n",
    "\n",
    "# Derived class: Student\n",
    "class Student(Institute):\n",
    "    def __init__(self, name, location, student_name, course):\n",
    "        super().__init__(name, location)\n",
    "        self.student_name = student_name\n",
    "        self.course = course\n",
    "\n",
    "    def save_to_db(self, connection):\n",
    "        cursor = connection.cursor()\n",
    "        cursor.execute('''\n",
    "            INSERT INTO Students (name, course, institute_name, location)\n",
    "            VALUES (?, ?, ?, ?)\n",
    "        ''', (self.student_name, self.course, self.name, self.location))\n",
    "        connection.commit()\n",
    "        print(f\"Student {self.student_name} saved to the database.\")\n",
    "\n",
    "    @staticmethod\n",
    "    def fetch_all(connection, institute_name=None, location=None):\n",
    "        query = 'SELECT * FROM Students'\n",
    "        params = []\n",
    "        if institute_name and location:\n",
    "            query += ' WHERE institute_name = ? AND location = ?'\n",
    "            params = [institute_name, location]\n",
    "        return pd.read_sql(query, connection, params=params)\n",
    "\n",
    "#_____________________________________________________________________________________________________________________________________________________________\n",
    "\n",
    "# Main program with input validation\n",
    "def main():\n",
    "    # Input validation for institute name\n",
    "    valid_institutes = ['NTI', 'ITI']\n",
    "    while True:\n",
    "        name = input('Choose Institute Name [NTI, ITI]: ').strip().upper()\n",
    "        if name in valid_institutes:\n",
    "            break\n",
    "        else:\n",
    "            print(\"Invalid institute name. Please choose either 'NTI' or 'ITI'.\")\n",
    "\n",
    "    # Input validation for location\n",
    "    while True:\n",
    "        location = input('Enter Institute Location: ').strip()\n",
    "        if location:\n",
    "            break\n",
    "        else:\n",
    "            print(\"Location cannot be empty. Please enter a valid location.\")\n",
    "\n",
    "    # Create an institute\n",
    "    institute = Institute(name, location)\n",
    "\n",
    "    # Connect to the database\n",
    "    connection = connect_to_db()\n",
    "\n",
    "    while True:\n",
    "        print(\"\\n--- Institute Management System ---\")\n",
    "        print(\"1. Add Staff\")\n",
    "        print(\"2. Add Student\")\n",
    "        print(\"3. Display All Staff\")\n",
    "        print(\"4. Display All Students\")\n",
    "        print(\"5. Exit\")\n",
    "\n",
    "        choice = input(\"Enter your choice: \")\n",
    "\n",
    "        if choice == '1':\n",
    "            staff_name = input(\"Enter staff name: \").strip()\n",
    "            position = input(\"Enter position: \").strip()\n",
    "            staff = Staff(institute.name, institute.location, staff_name, position)\n",
    "            staff.save_to_db(connection)\n",
    "\n",
    "        elif choice == '2':\n",
    "            student_name = input(\"Enter student name: \").strip()\n",
    "            course = input(\"Enter course: \").strip()\n",
    "            student = Student(institute.name, institute.location, student_name, course)\n",
    "            student.save_to_db(connection)\n",
    "\n",
    "        elif choice == '3':\n",
    "            print(\"\\nStaff Members at\", institute.name, \"in\", institute.location)\n",
    "            staff_members_df = Staff.fetch_all(connection, institute_name=institute.name, location=institute.location)\n",
    "            print(staff_members_df)\n",
    "\n",
    "        elif choice == '4':\n",
    "            print(\"\\nStudents at\", institute.name, \"in\", institute.location)\n",
    "            students_df = Student.fetch_all(connection, institute_name=institute.name, location=institute.location)\n",
    "            print(students_df)\n",
    "\n",
    "        elif choice == '5':\n",
    "            print(\"Exiting the program.\")\n",
    "            break\n",
    "\n",
    "        else:\n",
    "            print(\"Invalid choice, please try again.\")\n",
    "\n",
    "    connection.close()\n",
    "\n",
    "if __name__ == \"__main__\":\n",
    "    main()\n"
   ]
  },
  {
   "cell_type": "code",
   "execution_count": null,
   "id": "7aacfc90-cc49-4ace-bcd2-3babd19a75d7",
   "metadata": {},
   "outputs": [],
   "source": []
  }
 ],
 "metadata": {
  "kernelspec": {
   "display_name": "Python 3 (ipykernel)",
   "language": "python",
   "name": "python3"
  },
  "language_info": {
   "codemirror_mode": {
    "name": "ipython",
    "version": 3
   },
   "file_extension": ".py",
   "mimetype": "text/x-python",
   "name": "python",
   "nbconvert_exporter": "python",
   "pygments_lexer": "ipython3",
   "version": "3.12.4"
  }
 },
 "nbformat": 4,
 "nbformat_minor": 5
}
